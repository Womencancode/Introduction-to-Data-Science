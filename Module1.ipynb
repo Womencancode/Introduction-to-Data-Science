{
  "cells": [
    {
      "metadata": {
        "trusted": true
      },
      "cell_type": "code",
      "source": "# Define the Subscription key for making API calls.\nsecret = '015eb62e40404060bdc2f64e2dc0a1c3'",
      "execution_count": 2,
      "outputs": []
    },
    {
      "metadata": {
        "trusted": true
      },
      "cell_type": "code",
      "source": "# Import required libraries for request headers and json extraction.\nimport http.client, urllib.request, urllib.parse, urllib.error, base64, json\n\n# Replace the subscription_key string value with your valid subscription key.\nsubscription_key = secret\n\n# Replace to match your region.\nuri_base = 'westcentralus.api.cognitive.microsoft.com'\n\nheaders = {\n    # Request headers.\n    'Content-Type': 'application/json',\n    'Ocp-Apim-Subscription-Key': subscription_key,\n}\n\nparams = urllib.parse.urlencode({\n    # Request parameters. All of them are optional.\n    'visualFeatures': 'Description,Color,Tags',\n    'language': 'en',\n})",
      "execution_count": 3,
      "outputs": []
    },
    {
      "metadata": {
        "trusted": true
      },
      "cell_type": "code",
      "source": "body = \"{'url':'https://timeincsecure-a.akamaihd.net/rtmp_uds/293884104/201703/2681/293884104_5360456295001_5360434467001-vs.jpg?pubId=293884104&videoId=5360434467001'}\"\n\ntry:\n    # Execute the REST API call and get the response.\n    conn = http.client.HTTPSConnection('westcentralus.api.cognitive.microsoft.com')\n    conn.request(\"POST\", \"/vision/v1.0/analyze?%s\" % params, body, headers)\n    response = conn.getresponse()\n    data = response.read()\n\n    # 'data' contains the JSON data. The following formats the JSON data for display.\n    parsed = json.loads(data.decode())\n    print (\"Response:\")\n    print (json.dumps(parsed, sort_keys=True, indent=2))\n    conn.close()\n\nexcept Exception as e:\n    print('Error:')\n    print(e)\n",
      "execution_count": 4,
      "outputs": [
        {
          "output_type": "stream",
          "text": "Response:\n{\n  \"color\": {\n    \"accentColor\": \"048AC7\",\n    \"dominantColorBackground\": \"Brown\",\n    \"dominantColorForeground\": \"Brown\",\n    \"dominantColors\": [],\n    \"isBWImg\": false,\n    \"isBwImg\": false\n  },\n  \"description\": {\n    \"captions\": [\n      {\n        \"confidence\": 0.26692594483388654,\n        \"text\": \"a group of colorful underwater\"\n      }\n    ],\n    \"tags\": [\n      \"nature\",\n      \"covered\",\n      \"colorful\",\n      \"orange\",\n      \"reef\",\n      \"lot\",\n      \"colored\",\n      \"many\",\n      \"sitting\",\n      \"table\",\n      \"surrounded\",\n      \"painted\",\n      \"colors\",\n      \"fire\",\n      \"old\",\n      \"field\",\n      \"water\",\n      \"large\",\n      \"group\",\n      \"underwater\",\n      \"blue\",\n      \"display\",\n      \"room\",\n      \"hydrant\",\n      \"umbrella\",\n      \"people\",\n      \"standing\",\n      \"street\",\n      \"white\"\n    ]\n  },\n  \"metadata\": {\n    \"format\": \"Jpeg\",\n    \"height\": 720,\n    \"width\": 1280\n  },\n  \"requestId\": \"5756e85c-b41e-4191-8ce9-11ae4ae43321\",\n  \"tags\": [\n    {\n      \"confidence\": 0.9804526567459106,\n      \"name\": \"underwater\"\n    },\n    {\n      \"confidence\": 0.9777798652648926,\n      \"name\": \"aquarium\"\n    },\n    {\n      \"confidence\": 0.8753389120101929,\n      \"name\": \"water\"\n    },\n    {\n      \"confidence\": 0.862497091293335,\n      \"name\": \"fish\"\n    },\n    {\n      \"confidence\": 0.8598246574401855,\n      \"name\": \"coral\"\n    },\n    {\n      \"confidence\": 0.8286102414131165,\n      \"name\": \"nature\"\n    },\n    {\n      \"confidence\": 0.7438845634460449,\n      \"name\": \"diving\"\n    },\n    {\n      \"confidence\": 0.6094222068786621,\n      \"name\": \"marine invertebrates\"\n    },\n    {\n      \"confidence\": 0.4742690324783325,\n      \"name\": \"colorful\"\n    },\n    {\n      \"confidence\": 0.4733332097530365,\n      \"name\": \"orange\"\n    },\n    {\n      \"confidence\": 0.3992878496646881,\n      \"name\": \"reef\"\n    },\n    {\n      \"confidence\": 0.2842053174972534,\n      \"name\": \"colored\"\n    },\n    {\n      \"confidence\": 0.19803112745285034,\n      \"name\": \"surrounded\"\n    },\n    {\n      \"confidence\": 0.1796545833349228,\n      \"name\": \"painted\"\n    }\n  ]\n}\n",
          "name": "stdout"
        }
      ]
    },
    {
      "metadata": {
        "trusted": true
      },
      "cell_type": "code",
      "source": "# Define the Subscription key for making API calls.\nsecret = '5fc416eaf9234b6f96751467838182d9'",
      "execution_count": 8,
      "outputs": []
    },
    {
      "metadata": {
        "trusted": true
      },
      "cell_type": "code",
      "source": "# Import required libraries for request headers and json extraction.\nimport http.client, urllib.request, urllib.parse, urllib.error, base64, json\nimport requests\n\n# Replace the subscription_key string value with your valid subscription key.\nsubscription_key = secret\n\n# Replace to match your region.\ntext_analytics_base_url = \"https://westcentralus.api.cognitive.microsoft.com/text/analytics/v2.1/\"\nlanguage_api_url = text_analytics_base_url + \"languages\"\ndocuments = { \"documents\": [\n    { \"id\": \"1\", \"text\": \"This is a document written in English.\" },\n    { \"id\": \"2\", \"text\": \"Este es un document escrito en Español.\" },\n    { \"id\": \"3\", \"text\": \"这是一个用中文写的文件\" }\n]}\nheaders   = {\"Ocp-Apim-Subscription-Key\": subscription_key}\nresponse  = requests.post(language_api_url, headers=headers, json=documents)\nlanguages = response.json()\nprint(languages)",
      "execution_count": 9,
      "outputs": [
        {
          "output_type": "stream",
          "text": "{'documents': [{'id': '1', 'detectedLanguages': [{'name': 'English', 'iso6391Name': 'en', 'score': 1.0}]}, {'id': '2', 'detectedLanguages': [{'name': 'Spanish', 'iso6391Name': 'es', 'score': 1.0}]}, {'id': '3', 'detectedLanguages': [{'name': 'Chinese_Simplified', 'iso6391Name': 'zh_chs', 'score': 1.0}]}], 'errors': []}\n",
          "name": "stdout"
        }
      ]
    },
    {
      "metadata": {
        "trusted": true
      },
      "cell_type": "code",
      "source": "sentiment_url = text_analytics_base_url + \"sentiment\"\ndocuments = {\"documents\" : [\n  {\"id\": \"1\", \"language\": \"en\", \"text\": \"\"},\n  {\"id\": \"2\", \"language\": \"en\", \"text\": \"I had a terrible time at the hotel. The staff was rude and the food was awful.\"},  \n  {\"id\": \"3\", \"language\": \"es\", \"text\": \"Los caminos que llevan hasta Monte Rainier son espectaculares y hermosos.\"},  \n  {\"id\": \"4\", \"language\": \"es\", \"text\": \"La carretera estaba atascada. Había mucho tráfico el día de ayer.\"}\n]}\nheaders   = {\"Ocp-Apim-Subscription-Key\": subscription_key}\nresponse  = requests.post(sentiment_url, headers=headers, json=documents)\nsentiments = response.json()\nprint(sentiments)\n",
      "execution_count": 28,
      "outputs": [
        {
          "output_type": "stream",
          "text": "{'documents': [{'id': '1', 'score': 0.5}, {'id': '2', 'score': 0.0019068121910095215}, {'id': '3', 'score': 0.7456425428390503}, {'id': '4', 'score': 0.334433376789093}], 'errors': []}\n",
          "name": "stdout"
        }
      ]
    },
    {
      "metadata": {
        "trusted": true
      },
      "cell_type": "code",
      "source": "",
      "execution_count": null,
      "outputs": []
    }
  ],
  "metadata": {
    "kernelspec": {
      "name": "python36",
      "display_name": "Python 3.6",
      "language": "python"
    },
    "language_info": {
      "mimetype": "text/x-python",
      "nbconvert_exporter": "python",
      "name": "python",
      "pygments_lexer": "ipython3",
      "version": "3.6.6",
      "file_extension": ".py",
      "codemirror_mode": {
        "version": 3,
        "name": "ipython"
      }
    }
  },
  "nbformat": 4,
  "nbformat_minor": 2
}